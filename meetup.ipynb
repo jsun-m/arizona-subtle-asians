{
 "cells": [
  {
   "cell_type": "code",
   "execution_count": 2,
   "metadata": {},
   "outputs": [],
   "source": [
    "import pandas as pd"
   ]
  },
  {
   "cell_type": "code",
   "execution_count": 17,
   "metadata": {},
   "outputs": [],
   "source": [
    "read_df = pd.read_csv(\"./asa.csv\", delimiter=\"\\t\")"
   ]
  },
  {
   "cell_type": "code",
   "execution_count": 34,
   "metadata": {},
   "outputs": [],
   "source": [
    "df = pd.DataFrame()\n",
    "df[\"Name\"] = read_df[\"Name\"]\n",
    "df[\"Location\"] = read_df[\"Location\"]\n",
    "df[\"Restaurant\"] = read_df[\"What is one good restaurant in Arizona you would recommend to others? (Doesn't have to be asian)\"]\n",
    "df[\"Generation\"] = read_df[\"Are you GenZ/Millennial? (This won't have affect on your admission)\"]\n",
    "df[\"DesiredActivity\"] = read_df[\"What is one activity you want to see as an event?\"]\n",
    "df['Sports'] = read_df['Do you play any sports? (e.g. Tennis, Badminton,\" Basketball). List out the sports you enjoy or simply say \"\"None\"\"\",,,']\n",
    "\n"
   ]
  },
  {
   "cell_type": "code",
   "execution_count": 35,
   "metadata": {},
   "outputs": [
    {
     "name": "stdout",
     "output_type": "stream",
     "text": [
      "0                                     Millennial\n",
      "1                                             No\n",
      "2                                in-between both\n",
      "3                                     millennial\n",
      "4                                           GenZ\n",
      "5                   No...but I'm young at heart!\n",
      "6                                             No\n",
      "7                                          Gen X\n",
      "8                                     Millennial\n",
      "9                                            NaN\n",
      "10                                         Gen Z\n",
      "11                                    Millennial\n",
      "12                                           Yes\n",
      "13                                     Millenial\n",
      "14                             I am 62 yrs young\n",
      "15                                           Yes\n",
      "16                                    Millennial\n",
      "17                                         Gen X\n",
      "18                                    Millennial\n",
      "19                                   Millennial!\n",
      "20                                    milennial?\n",
      "21                                          GenZ\n",
      "22    Actually I donâ€™t know what that means...\n",
      "23                                          GenZ\n",
      "24                                    Iâ€™m GenZ\n",
      "25                                           Yes\n",
      "26                                            No\n",
      "27                                             ?\n",
      "28                                    millennial\n",
      "29                                    Millennial\n",
      "30                                           Yes\n",
      "Name: Generation, dtype: object\n"
     ]
    }
   ],
   "source": [
    "print(df[\"Generation\"])"
   ]
  },
  {
   "cell_type": "code",
   "execution_count": 29,
   "metadata": {},
   "outputs": [
    {
     "name": "stdout",
     "output_type": "stream",
     "text": [
      "Location\n",
      "Chandler, AZ            2\n",
      "Gilbert, AZ             2\n",
      "Glendale, AZ            1\n",
      "Laveen, AZ              1\n",
      "Mesa, AZ                4\n",
      "Paradise Valley, AZ     1\n",
      "Peoria, AZ              1\n",
      "Phoenix, AZ            10\n",
      "Scottsdale, AZ          5\n",
      "Tempe, AZ               4\n",
      "Name: Name, dtype: int64\n"
     ]
    }
   ],
   "source": [
    "print(df.groupby('Location')['Name'].nunique())"
   ]
  },
  {
   "cell_type": "code",
   "execution_count": 36,
   "metadata": {},
   "outputs": [
    {
     "name": "stdout",
     "output_type": "stream",
     "text": [
      "0                         Great Wall cuisine in Phoenix\n",
      "1                                              Francine\n",
      "2                                 Pinos Pizza Al Centro\n",
      "3                                  la indita Tucson, AZ\n",
      "4                                          Delhi Palace\n",
      "5     https://www.azhotpot.com/. It's called YuTianX...\n",
      "6                                             Chef Wong\n",
      "7             Sizzle or Smoking Tiger (both Korean BBQ)\n",
      "8                    At My Place Cafe for Filipino food\n",
      "9                                                   NaN\n",
      "10                                            Pho thanh\n",
      "11                                           Angry crab\n",
      "12                                   Cheesecake Factory\n",
      "13                           Juun All-You-Can-Eat sushi\n",
      "14    I am new to the valley so to be honest, don't ...\n",
      "15                                                Manna\n",
      "16                                     Sicilian Butcher\n",
      "17                                      The Living Room\n",
      "18                                          Hilal Grill\n",
      "19                                         Tacos Chiwas\n",
      "20                                      Renata's Hearth\n",
      "21                                         Barrio Queen\n",
      "22                                            Season 52\n",
      "23                                                Pocha\n",
      "24                                            Fired Pie\n",
      "25                                             Gen kbbq\n",
      "26                                      Szechwan Garden\n",
      "27                                         Wholly Grill\n",
      "28           I would recommend SakeBomber Sushi & Grill\n",
      "29                                               Hodori\n",
      "30                                         Roaring fork\n",
      "Name: Restaurant, dtype: object\n"
     ]
    }
   ],
   "source": [
    "print(df[\"Restaurant\"])"
   ]
  },
  {
   "cell_type": "code",
   "execution_count": 37,
   "metadata": {},
   "outputs": [
    {
     "name": "stdout",
     "output_type": "stream",
     "text": [
      "0       Anything to do with food and cultural exchanges\n",
      "1                                                Social\n",
      "2     Activities that allows people to connect and g...\n",
      "3                                           river float\n",
      "4                                     Hike, dance party\n",
      "5                                    Dining out/drinks.\n",
      "6                                  anything interesting\n",
      "7                                  Seeing Asian standup\n",
      "8                                                  Kbbq\n",
      "9                                                   NaN\n",
      "10                                              karaoke\n",
      "11                                             Pot luck\n",
      "12                                           Volleyball\n",
      "13                                             Kayaking\n",
      "14                             I'm in for any activity.\n",
      "15                                           Korean BBQ\n",
      "16                                               Brunch\n",
      "17                                        Wine tastings\n",
      "18                                               Dinner\n",
      "19                             Karaoke? Coffee meet up?\n",
      "20                            playing asian broad games\n",
      "21                                             Hangouts\n",
      "22                 Medium-intensity Outdoor activities.\n",
      "23                              I prefer evening events\n",
      "24                                            Fired Pie\n",
      "25                    Finding cool spots to hang out at\n",
      "26    New to Meetups but curios about interesting cu...\n",
      "27                                              karaoke\n",
      "28        Let's go volunteer or go out to an arcade bar\n",
      "29                                             Lake day\n",
      "30           Happy hours / dinners / yoga ðŸ§˜â€â™€ï¸\n",
      "Name: DesiredActivity, dtype: object\n"
     ]
    }
   ],
   "source": [
    "print(df[\"DesiredActivity\"])"
   ]
  },
  {
   "cell_type": "code",
   "execution_count": 43,
   "metadata": {},
   "outputs": [
    {
     "name": "stdout",
     "output_type": "stream",
     "text": [
      "1                                         Open to all,,\n",
      "3                                                     ,\n",
      "4                                                     ,\n",
      "5                                                     ,\n",
      "8                                           Badminton,,\n",
      "11                                        Pickle ball,,\n",
      "13              Badminton, Volleyball, Ultimate Frisbee\n",
      "14                                              Hiking,\n",
      "17     Pickleball (3.5) ; Hiking (Intermediate); Yoga,,\n",
      "22    Would be happy to try for health reason, but n...\n",
      "Name: Sports, dtype: object\n"
     ]
    }
   ],
   "source": [
    "print(df[df[\"Sports\"] != \",,\"][\"Sports\"])"
   ]
  }
 ],
 "metadata": {
  "kernelspec": {
   "display_name": ".venv",
   "language": "python",
   "name": "python3"
  },
  "language_info": {
   "codemirror_mode": {
    "name": "ipython",
    "version": 3
   },
   "file_extension": ".py",
   "mimetype": "text/x-python",
   "name": "python",
   "nbconvert_exporter": "python",
   "pygments_lexer": "ipython3",
   "version": "3.11.3"
  },
  "orig_nbformat": 4
 },
 "nbformat": 4,
 "nbformat_minor": 2
}
